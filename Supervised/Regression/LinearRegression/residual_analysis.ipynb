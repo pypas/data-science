{
 "cells": [
  {
   "cell_type": "markdown",
   "metadata": {},
   "source": [
    "# Residual analysis\n",
    "\n",
    "Src: https://www.youtube.com/watch?v=gLENW2AdJWg\n",
    "\n",
    "Tells us:\n",
    "\n",
    "- How good the model we have productd fits the data (that is, how is our error)\n",
    "\n",
    "- Whether or not the model we are using is appropriate for the data we are looking at\n",
    "\n",
    "## Residual\n",
    "- A quantity remaining after other things have been subtracted or allowed for\n",
    "\n",
    "- Difference between the observed value of the dependent value and what is predicted by the regression model: $y_i - \\hat{y}_i$\n",
    "\n",
    "- Only a part of the variance in the dependent variable will be explained by the values of the independent variable: $R^2 = \\frac{SSR}{SST}$\n",
    "\n",
    "- The variance left unexplained is due to the model error\n",
    "\n"
   ]
  },
  {
   "cell_type": "code",
   "execution_count": 3,
   "metadata": {},
   "outputs": [
    {
     "data": {
      "text/plain": [
       "<matplotlib.collections.PathCollection at 0x199213abac8>"
      ]
     },
     "execution_count": 3,
     "metadata": {},
     "output_type": "execute_result"
    },
    {
     "data": {
      "image/png": "[encoded data removed]",
      "text/plain": [
       "<Figure size 432x288 with 1 Axes>"
      ]
     },
     "metadata": {
      "needs_background": "light"
     },
     "output_type": "display_data"
    }
   ],
   "source": [
    "import pandas as pd\n",
    "import matplotlib.pyplot as plt\n",
    "df = pd.DataFrame({\"Bill\":[34,108,64,88,99,51], \"Tip\":[5,17,11,8,14,5]})\n",
    "X = df.Bill\n",
    "y = df.Tip\n",
    "plt.scatter(X,y)"
   ]
  },
  {
   "cell_type": "code",
   "execution_count": 13,
   "metadata": {},
   "outputs": [
    {
     "name": "stdout",
     "output_type": "stream",
     "text": [
      "Coefficients: \n",
      " [0.14621969]\n",
      "Intercept: \n",
      " -0.8202567760342401\n"
     ]
    },
    {
     "data": {
      "text/plain": [
       "<matplotlib.legend.Legend at 0x19921b45248>"
      ]
     },
     "execution_count": 13,
     "metadata": {},
     "output_type": "execute_result"
    },
    {
     "data": {
      "image/png": "[encoded data removed]",
      "text/plain": [
       "<Figure size 432x288 with 1 Axes>"
      ]
     },
     "metadata": {
      "needs_background": "light"
     },
     "output_type": "display_data"
    }
   ],
   "source": [
    "from sklearn.linear_model import LinearRegression\n",
    "import numpy as np\n",
    "\n",
    "regressor = LinearRegression()\n",
    "regressor.fit(X.values.reshape(-1, 1), y)\n",
    "\n",
    "y_pred = regressor.predict(X.values.reshape(-1, 1))\n",
    "\n",
    "a = regressor.coef_\n",
    "b = regressor.intercept_\n",
    "print('Coefficients: \\n', a)\n",
    "print('Intercept: \\n', b)\n",
    "\n",
    "\n",
    "# Plot outputs\n",
    "plt.scatter(X, y,  color='black', label=\"$y_i$\")\n",
    "plt.plot(X, y_pred, color='blue', linewidth=2)\n",
    "plt.scatter(X, y_pred, color='blue', linewidth=3, label = \"$\\hat{y_i}$\")\n",
    "plt.hlines(np.mean(y), xmin=40, xmax = 110, color='red', linestyle='dashed', label=\"$\\overline{y_i}$\")\n",
    "plt.legend(loc='upper left')"
   ]
  },
  {
   "cell_type": "markdown",
   "metadata": {},
   "source": [
    "## Squared Diference\n",
    "\n",
    "- Sum of Squared Error: $SSE = \\sum (y_i - \\hat{y}_i)^2$. (aka RSS: **residual sum of squares**)\n",
    "\n",
    "It is the difference between our model prediction and the observed value.\n",
    "\n",
    "We usually want to **minimize the error**.\n",
    "\n",
    "- Total Sum of Squares: $SST = \\sum (y_i - \\bar{y}_i)^2$. \n",
    "\n",
    "It is the difference between the observed values and the average values (dispersion of the observed variables around the mean).\n",
    "\n",
    "It is a measure of the **total variability of the dataset**.\n",
    "\n",
    "- Sum of Squared due to Regression: $SSR = \\sum (\\hat{y}_i - \\bar{y}_i)^2$. \n",
    "\n",
    "It is the difference between the predicted values and the average values.\n",
    "\n",
    "It describes how well our line fits the data.\n",
    "\n",
    "If this value is equal to SST, it means our regression model **captures all the observed variability perfectly**."
   ]
  },
  {
   "cell_type": "markdown",
   "metadata": {},
   "source": [
    "## Residual plot\n",
    "\n",
    "### Homoscedasticity\n",
    "![homoscedasticity](img/homoscedasticity.png)\n",
    "\n",
    "\n",
    "### Heteroscedasticity\n",
    "Src: https://statisticsbyjim.com/regression/heteroscedasticity-regression/\n",
    "\n",
    "Heteroscedasticity, also spelled heteroskedasticity, occurs more often in datasets that have a **large range between the largest and smallest observed values**. \n",
    "\n",
    "#### Problems\n",
    "- Makes coefficient estimates less precise. Lower precision increases the likelihood that the coefficient estimates are further from the correct population value.\n",
    "- Produces **p-values that are smaller than they should be**. This effect occurs because heteroscedasticity increases the variance of the coefficient estimates but the OLS procedure does not detect this increase. Consequently, OLS calculates the t-values and F-values using an underestimated amount of variance. This problem can lead you to conclude that a model term is statistically significant when it is actually not significant.\n",
    "\n",
    "#### Solutions\n",
    "1. Redefining the variables\n",
    "\n",
    "Find different ways to specify the model to **reduce the impact of the size differential** (ex: instead of using absolute values, use rates and per capita value).\n",
    "\n",
    "2. Weighted regression\n",
    "\n",
    "Weighted regression is a method that assigns each data point a **weight based on the variance** of its fitted value.\n",
    "\n",
    "3. Transform the dependent variable\n",
    "\n",
    "Transform your original data into different values that produce good looking residuals.\n",
    "\n",
    "#### Pure heteroscedasticity\n",
    "\n",
    "Pure heteroscedasticity refers to cases where you specify the **correct model** and yet you observe **non-constant variance** in the residual plots.\n",
    "\n",
    "![heteroscedasticity](img/heteroscedasticity.png)\n",
    "\n",
    "#### Impure heteroscedasticity\n",
    "\n",
    "Impure heteroscedasticity refers to cases where you **incorrectly specify the model**, and that causes the non-constant variance. When you leave an important variable out of a model, the omitted effect is absorbed into the error term. If the effect of the omitted variable varies throughout the observed range of data, it can produce the telltale signs of heteroscedasticity in the residual plots.\n",
    "![heteroscedasticity_non_linear](img/heteroscedasticity_non_linear.png)"
   ]
  }
 ],
 "metadata": {
  "kernelspec": {
   "display_name": "Python 3",
   "language": "python",
   "name": "python3"
  },
  "language_info": {
   "codemirror_mode": {
    "name": "ipython",
    "version": 3
   },
   "file_extension": ".py",
   "mimetype": "text/x-python",
   "name": "python",
   "nbconvert_exporter": "python",
   "pygments_lexer": "ipython3",
   "version": "3.7.6"
  }
 },
 "nbformat": 4,
 "nbformat_minor": 4
}
