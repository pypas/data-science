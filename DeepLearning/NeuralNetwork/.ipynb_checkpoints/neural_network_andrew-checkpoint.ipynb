{
 "cells": [
  {
   "cell_type": "markdown",
   "metadata": {},
   "source": [
    "# Neural Networks\n",
    "As seen in Andrew Ng's Deep Leaning course"
   ]
  },
  {
   "cell_type": "markdown",
   "metadata": {},
   "source": [
    "## Representation\n",
    "\n",
    "Here we have a **two-layer** neural network, composed of: \n",
    "- An input layer (with 3 input units)\n",
    "- A hidden layer (with 4 hidden units)\n",
    "- An output layer (with 1 output unit)\n",
    "\n",
    "![neural_network](img/neural_network.png)\n",
    "\n",
    "We can write the following equations:\n",
    "\n",
    "$z_1^{[1]} = w_1^{[1]T}x + b_1^{[1]}$ and $a_1^{[1]} = \\sigma(z_1^{[1]})$\n",
    "\n",
    "$z_2^{[1]} = w_2^{[1]T}x + b_2^{[1]}$ and $a_2^{[1]} = \\sigma(z_2^{[1]})$\n",
    "\n",
    "$z_3^{[1]} = w_3^{[1]T}x + b_3^{[1]}$ and $a_3^{[1]} = \\sigma(z_3^{[1]})$\n",
    "\n",
    "$z_4^{[1]} = w_4^{[1]T}x + b_4^{[1]}$ and $a_4^{[1]} = \\sigma(z_4^{[1]})$\n"
   ]
  },
  {
   "cell_type": "markdown",
   "metadata": {},
   "source": [
    "Computing this with a for loop wouldn't be very effective, so we can write:\n",
    "\n",
    "$z^{[1]} =  \\begin{pmatrix}\n",
    "- & w_1^{[1]T}& -  \\\\\n",
    "- & w_2^{[1]T}& - \\\\\n",
    "- & w_3^{[1]T}& -  \\\\\n",
    "- & w_4^{[1]T}& -  \\\\\n",
    "\\end{pmatrix}\n",
    "\\begin{pmatrix}\n",
    "x_1 \\\\\n",
    "x_2 \\\\\n",
    "x_3 \\\\\n",
    "\\end{pmatrix} + \\begin{pmatrix}\n",
    "b_1^{[1]} \\\\\n",
    "b_2^{[1]} \\\\\n",
    "b_3^{[1]} \\\\\n",
    "b_4^{[1]} \\\\\n",
    "\\end{pmatrix} = \n",
    "\\begin{pmatrix}\n",
    "w_1^{[1]T}x + b_1^{[1]}\\\\\n",
    "w_2^{[1]T}x + b_2^{[1]}\\\\\n",
    "w_3^{[1]T}x + b_3^{[1]}\\\\\n",
    "w_4^{[1]T}x + b_4^{[1]}\\\\\n",
    "\\end{pmatrix} = \n",
    "\\begin{pmatrix}\n",
    "z_1^{[1]} \\\\\n",
    "z_2^{[1]} \\\\\n",
    "z_3^{[1]} \\\\\n",
    "z_4^{[1]} \\\\\n",
    "\\end{pmatrix}\n",
    "$"
   ]
  },
  {
   "cell_type": "markdown",
   "metadata": {},
   "source": [
    "## Computing a neural network output\n",
    "\n",
    "Given an input x:\n",
    "\n",
    "**First layer**\n",
    "\n",
    "$z^{[1]} = W^{[1]}x + b^{[1]}$\n",
    "\n",
    "With shapes: \n",
    "* $z^{[1]}$: (4,1)\n",
    "* $W^{[1]}$: (4,3)\n",
    "* $x$: (3,1) \n",
    "* $b^{[1]}$: (4,1)\n",
    "\n",
    "$a^{[1]} = \\sigma(z^{[1]})$\n",
    "\n",
    "**Second layer**\n",
    "\n",
    "$z^{[2]} = W^{[2]}a^{[1]} + b^{[2]}$\n",
    "\n",
    "With shapes: \n",
    "* $z^{[2]}$: (1,1)\n",
    "* $W^{[2]}$: (1,4)\n",
    "* $a^{[1]}$: (4,1) \n",
    "* $b^{[2]}$: (1,1)\n",
    "\n",
    "$a^{[2]} = \\sigma(z^{[2]})$"
   ]
  },
  {
   "cell_type": "markdown",
   "metadata": {},
   "source": [
    "## Vectorizing across multiple examples\n",
    "for i = 1 to m:\n",
    "\n",
    "* $z^{[1](i)} = W^{[1]}x^{(i)} + b^{[1]}$\n",
    "* $a^{[1](i)} = \\sigma(z^{[1](i)})$\n",
    "* $z^{[2](i)} = W^{[2]}a^{[1](i)} + b^{[2]}$\n",
    "* $a^{[2](i)} = \\sigma(z^{[2](i)})$"
   ]
  },
  {
   "cell_type": "markdown",
   "metadata": {},
   "source": [
    "## Activation functions\n",
    "\n",
    "### Sigmoid function\n",
    "$g(z) = \\frac{1}{1+e^{-z}}$\n",
    "\n",
    "We usually use it in the output layer (binary classification)\n",
    "\n",
    "$\\frac{dg(z)}{dz} = g(z)(1-g(z))$"
   ]
  },
  {
   "cell_type": "code",
   "execution_count": 7,
   "metadata": {},
   "outputs": [
    {
     "data": {
      "text/plain": [
       "[<matplotlib.lines.Line2D at 0x1490c210048>]"
      ]
     },
     "execution_count": 7,
     "metadata": {},
     "output_type": "execute_result"
    },
    {
     "data": {
      "image/png": "[encoded data removed]",
      "text/plain": [
       "<Figure size 432x288 with 1 Axes>"
      ]
     },
     "metadata": {
      "needs_background": "light"
     },
     "output_type": "display_data"
    }
   ],
   "source": [
    "import numpy as np\n",
    "import matplotlib.pyplot as plt\n",
    "def sigmoid(x):\n",
    "    return 1/(1+np.exp(-x))\n",
    "x = np.linspace(-10, 10, 100) \n",
    "\n",
    "plt.axhline(color='black', lw=0.5)\n",
    "plt.axvline(color='black', lw=0.5)\n",
    "\n",
    "plt.plot(x,sigmoid(x))"
   ]
  },
  {
   "cell_type": "markdown",
   "metadata": {},
   "source": [
    "### Tangent function\n",
    "$g(z) = tanh(z) = \\frac{e^{z} - e^{-z}}{e^{z} + e^{-z}}$\n",
    "\n",
    "Almost always works better than sigmoid function because function because the values between plus 1 and minus 1 and so they values that come out from it are closer to having a 0 mean.\n",
    "\n",
    "$\\frac{dg(z)}{dz} = 1 - (tanh(z))^2$"
   ]
  },
  {
   "cell_type": "code",
   "execution_count": 9,
   "metadata": {},
   "outputs": [
    {
     "data": {
      "text/plain": [
       "[<matplotlib.lines.Line2D at 0x1490c2f6b88>]"
      ]
     },
     "execution_count": 9,
     "metadata": {},
     "output_type": "execute_result"
    },
    {
     "data": {
      "image/png": "[encoded data removed]",
      "text/plain": [
       "<Figure size 432x288 with 1 Axes>"
      ]
     },
     "metadata": {
      "needs_background": "light"
     },
     "output_type": "display_data"
    }
   ],
   "source": [
    "def tangent(x):\n",
    "    return np.tanh(x)\n",
    "x = np.linspace(-10, 10, 100) \n",
    "\n",
    "plt.axhline(color='black', lw=0.5)\n",
    "plt.axvline(color='black', lw=0.5)\n",
    "\n",
    "plt.plot(x,tangent(x))"
   ]
  },
  {
   "cell_type": "markdown",
   "metadata": {},
   "source": [
    "### ReLU function\n",
    "$g(z) = max(0,z)$\n",
    "\n",
    "The derivative is 1 so long as z is positive, and the derivative is 0 when z is negative.\n",
    "\n",
    "*OBS: an alternative is leaky ReLU*\n",
    "\n",
    "$\\begin{equation}\n",
    "  \\frac{dg(z)}{dz}=\\begin{cases}\n",
    "    0, & \\text{if $z<0$}.\\\\\n",
    "    1, & \\text{if $z\\geq0$}.\n",
    "  \\end{cases}\n",
    "\\end{equation}$"
   ]
  },
  {
   "cell_type": "code",
   "execution_count": 13,
   "metadata": {},
   "outputs": [
    {
     "data": {
      "text/plain": [
       "[<matplotlib.lines.Line2D at 0x1490c6346c8>]"
      ]
     },
     "execution_count": 13,
     "metadata": {},
     "output_type": "execute_result"
    },
    {
     "data": {
      "image/png": "[encoded data removed]",
      "text/plain": [
       "<Figure size 432x288 with 1 Axes>"
      ]
     },
     "metadata": {
      "needs_background": "light"
     },
     "output_type": "display_data"
    }
   ],
   "source": [
    "def relu(x):\n",
    "    return np.maximum(0,x)\n",
    "x = np.linspace(-10, 10, 100) \n",
    "\n",
    "plt.axhline(color='black', lw=0.5)\n",
    "plt.axvline(color='black', lw=0.5)\n",
    "\n",
    "plt.plot(x,relu(x))"
   ]
  },
  {
   "cell_type": "markdown",
   "metadata": {},
   "source": [
    "### Why non-linear activation functions\n",
    "If we use a linear hidden layer, that will be kind of useless because the composition of two linear functions is itself a linear function."
   ]
  },
  {
   "cell_type": "markdown",
   "metadata": {},
   "source": [
    "## Gradient descent\n",
    "### Forward propagation\n",
    "$Z^{[1]} = W^{[1]}X + b^{[1]}$\n",
    "\n",
    "$A^{[1]} = g^{[1]}(Z^{[1]})$\n",
    "\n",
    "$Z^{[2]} = W^{[2]}A^{[1]} + b^{[2]}$\n",
    "\n",
    "$A^{[2]} = g^{[2]}(Z^{[2]})$\n",
    "\n",
    "### Backpropagation\n",
    "$dZ^{[2]} = A^{[2]} - Y$\n",
    "\n",
    "$dW^{[2]} = \\frac{1}{m}dZ^{[2]}A^{[1]T}$\n",
    "\n",
    "$db^{[2]} = \\frac{1}{m}\\sum dZ^{[2]}$\n",
    "\n",
    "$dZ^{[1]} = W^{[1]T}dZ^{[2]} * g^{[1]'}(Z^{[1]})$\n",
    "\n",
    "$dW^{[1]} = \\frac{1}{m}dZ^{[1]}X^{T}$\n",
    "\n",
    "$db^{[1]} = \\frac{1}{m}\\sum dZ^{[1]}$"
   ]
  }
 ],
 "metadata": {
  "kernelspec": {
   "display_name": "Python 3",
   "language": "python",
   "name": "python3"
  },
  "language_info": {
   "codemirror_mode": {
    "name": "ipython",
    "version": 3
   },
   "file_extension": ".py",
   "mimetype": "text/x-python",
   "name": "python",
   "nbconvert_exporter": "python",
   "pygments_lexer": "ipython3",
   "version": "3.7.6"
  }
 },
 "nbformat": 4,
 "nbformat_minor": 4
}
