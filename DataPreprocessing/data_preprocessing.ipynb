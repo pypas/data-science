{
 "cells": [
  {
   "cell_type": "markdown",
   "metadata": {},
   "source": [
    "# Data Preprocessing\n",
    "\n",
    "## Feature Scaling\n",
    "\n",
    "Make sure features are on similar scale, by getting every feature into approximately a $−1 \\leq x_i \\leq 1$ range.\n",
    "\n",
    "Mean normalization: eplace $x_i$ with $x_i - \\mu$ to make features have approximately zero mean (do not apply to $x_0 = 1$).\n",
    "\n",
    "## Dummy coding & One-hot encoding\n",
    "\n",
    "### Dummy encoding\n",
    "Ex: blue = 1, red = 2, white = 3\n",
    "\n",
    "### One-hot encoding\n",
    "Ex: blue = 100, red = 010, white = 001\n"
   ]
  }
 ],
 "metadata": {
  "kernelspec": {
   "display_name": "Python 3",
   "language": "python",
   "name": "python3"
  },
  "language_info": {
   "codemirror_mode": {
    "name": "ipython",
    "version": 3
   },
   "file_extension": ".py",
   "mimetype": "text/x-python",
   "name": "python",
   "nbconvert_exporter": "python",
   "pygments_lexer": "ipython3",
   "version": "3.7.6"
  }
 },
 "nbformat": 4,
 "nbformat_minor": 4
}
