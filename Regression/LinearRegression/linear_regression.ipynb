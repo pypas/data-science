{
 "cells": [
  {
   "cell_type": "markdown",
   "metadata": {},
   "source": [
    "# Linear Regression"
   ]
  },
  {
   "cell_type": "markdown",
   "metadata": {},
   "source": [
    "## Introduction\n",
    "\n",
    "Our Learning Algorithm should be able to create a hypothesis function $h$ from the data in the training set.\n",
    "\n",
    "In Univariate Linear Regression, $h$ is of the form $h_{\\Theta}(x) = \\Theta_0 + \\Theta_1*x_1 $.\n",
    "\n",
    "We want to minimize the cost function $J(\\Theta) = \\frac{1}{2m}\\sum_{i=1}^m (h_{\\Theta}(x^i) - y^i)^2 $.\n",
    "\n",
    "*OBS: The $\\frac{1}{m}$ is used to average the squared error over the number of components. The extra $\\frac{1}{2}$ is optional, but is often used by authors to cancel out the 2 when taking the derivative.*\n",
    "\n",
    "Some vocabulary:\n",
    "\n",
    "- $\\Theta_i$ : parameters (weights)\n",
    "- $x_i$ :  input variables (features)\n",
    "- $y_i$ : output values (target)\n",
    "- $m$ : number of training examples\n",
    "\n",
    "## How to determine $\\Theta$ ?\n",
    "\n",
    "### Gradient Descent\n",
    "\n",
    "- Start with some $\\Theta_i$\n",
    "- Keep changin $\\Theta_i$ to reduce $J(\\Theta)$ until we hopefully end up at a minimum\n",
    "\n",
    "#### The algorithm\n",
    "$\\Theta_j = \\Theta_j - \\alpha\\frac{\\delta}{\\delta \\Theta_j}J(\\Theta)$\n",
    "\n",
    "*OBS: the update should be simultaneous for all values of j*\n",
    "\n",
    "#### Learning rate\n",
    "$\\alpha$ is called the **learning rate**\n",
    "\n",
    "- if $\\alpha$ is too small, the gradient descent can be too **low**\n",
    "- if $\\alpha$ is too large, gradient descent can overshoot the minimum. It may **fail to converge**, or even diverge.\n",
    "\n",
    "*OBS: Gradient descent can converge to a local minimum, even with the learning rate $\\alpha$ fixed.*\n",
    "\n",
    "#### Replacing the cost function\n",
    "Widrow-Hoff learning Rule:\n",
    "\n",
    "$\\Theta_j = \\Theta_j - \\alpha(h_{\\Theta}(x^i) - y^i)*x^i_j$\n",
    "\n",
    "Some observations\n",
    "- The magnitude of the update is proportional to the error rate ($y^i-h_{\\Theta}(x^i)$): that means that if the prediction is very close to the real value, there's little need to chance the parameters.\n",
    "\n",
    "#### Batch Gradient Descent\n",
    "\"Batch\": Each step of gradient descent uses **all the training examples** on all steps.\n",
    "\n",
    "$\\Theta_0 = \\Theta_0 - \\alpha\\frac{1}{m}\\sum^m_{i=1}(h_{\\Theta}(x^i)-y_i)$\n",
    "\n",
    "$\\Theta_1 = \\Theta_1 - \\alpha\\frac{1}{m}\\sum^m_{i=1}(h_{\\Theta}(x^i)-y_i)*x^i_1$\n",
    "\n",
    "*OBS: Batch Gradient Descent has to scan through the entire training set begore taking a single step (costly operation if m is large)*\n",
    "\n",
    "#### Stochastic\n",
    "Each step of gradient descent uses **one training example.**\n",
    "\n",
    "$\\Theta_0 = \\Theta_0 - \\alpha(h_{\\Theta}(x^i)-y_i)$\n",
    "\n",
    "$\\Theta_1 = \\Theta_1 - \\alpha(h_{\\Theta}(x^i)-y_i)*x^i_1$\n",
    "\n",
    "*OBS: Contrary to batch gradient descent, stochastic gradient descent can start making progress right away, and\n",
    "continues to make progress with each example it looks at. Often, stochastic gradient descent gets $\\Theta$ “close” to the minimum much **faster** than batch gradient descent*\n",
    "\n",
    "*OBS2: When the training set is large, stochastic gradient descent is often preferred over batch gradient descent.*\n",
    "\n",
    "#### Mini-batch Gradient Descent\n",
    "Each step of gradient descent uses **b training examples**\n",
    "\n",
    "## Interpreting the Result\n",
    "Ex: LR to predict the sales according to how much was spent on TV ads. We found the following model:\n",
    "\n",
    "$\\hat{y} = 7.03 + 0.0475*x$\n",
    "\n",
    "That means that for each $1000 spent in TV ads, we sell 47.5 aditional units."
   ]
  },
  {
   "cell_type": "markdown",
   "metadata": {},
   "source": [
    "# Multivariate Linear Regression"
   ]
  },
  {
   "cell_type": "markdown",
   "metadata": {},
   "source": [
    "## Gradient Descent\n",
    "\n",
    "$\\Theta_j = \\Theta_j - \\alpha\\frac{1}{m}\\sum^m_{i=1}(h_{\\Theta}(x^i)-y_i)*x^i_j$\n",
    "\n",
    "### Batch Gradient Descent\n",
    "\n",
    "`for i in range(nb_epochs):\n",
    "     params_grad = evaluate_gradient(loss_function,data,params)\n",
    "     params = params - learning_rate * params_grad`\n",
    " \n",
    "#### Epoch\n",
    "One epoch is one **complete run through all of the training data**\n",
    "\n",
    "#### Batch Size\n",
    "Total number of **training examples present in a single batch**\n",
    "\n",
    "#### Iterations\n",
    "The number of batches needed to complete one epoch\n",
    "\n",
    "Ex: We have **10,000 training examples** -> divide into **batches of 16** -> 10,000/16 = **625 interations** for one epoch\n",
    "\n",
    "### Stochastic Gradient Descent\n",
    "`for i in range(nb_epochs):\n",
    "     np.random.shuffle(data)\n",
    "     for example in data:\n",
    "         params_grad = evaluate_gradient(loss_function,example,params)\n",
    "         params = params - learning_rate * params_grad`\n",
    "         \n",
    "### Mini-batch Gradient Descent\n",
    "`for i in range(nb_epochs):\n",
    "     np.random.shuffle(data)\n",
    "     for batch in get_batches(data,batch_size=16):\n",
    "         params_grad = evaluate_gradient(loss_function,batch,params)\n",
    "         params = params - learning_rate * params_grad`\n",
    "         \n",
    "Interesting gradient descent optimization algorithms: https://ruder.io/optimizing-gradient-descent/\n",
    "\n",
    "RAdam: https://medium.com/@lessw/new-state-of-the-art-ai-optimizer-rectified-adam-radam-5d854730807b\n",
    "\n",
    "## Feature Scaling\n",
    "\n",
    "Make sure features are on similar scale, by getting every feature into approximately a $−1 \\leq x_i \\leq 1$ range.\n",
    "\n",
    "Mean normalization: eplace $x_i$ with $x_i - \\mu$ to make features have approximately zero mean (do not apply to $x_0 = 1$).\n",
    "\n",
    "## Learning Rate\n",
    "\n",
    "For sufficiently small $\\alpha$, $J(\\Theta)$ should decrease on every iteration. But if $\\alpha$ is too small, gradient descent can be slow to converge.\n",
    "\n",
    "## Features and Polynomial Regression\n",
    "\n",
    "## Normal Equation\n",
    "Method to solve $\\Theta$ analytically\n",
    "\n",
    "$\\Theta = (X^TX)^{-1}X^T*y$\n",
    "\n",
    "### What if  $X^TX)$ is noninvertible?\n",
    "Some causes\n",
    "\n",
    "* Redundant features: where two features are very closely related (i.e. they are linearly dependent).\n",
    "* Too many features (e.g. $m \\leq n$). In this case, delete some features or use “regularization”.\n",
    "\n",
    "### Gradient Descent x Normal Equation\n",
    "\n",
    "|Gradient Descent                    | Normal Equation                      |\n",
    "|------------------------------------|--------------------------------------|\n",
    "| Need to choose $\\alpha$ :(         |Do not need to choose $\\alpha$ :)     |\n",
    "| Needs many interactions :(         |Don’t need to iterate :)              |\n",
    "| Works well even when n is large :) |Need to compute inverse -> $O(n^3)$ :(|\n",
    "|                                    |Slow if n is large :(                 |\n",
    "\n",
    "*OBS: n = number of features*"
   ]
  },
  {
   "cell_type": "markdown",
   "metadata": {},
   "source": [
    "# Our Dataset\n",
    "Source: https://www.kaggle.com/harlfoxem/housesalesprediction\n",
    "\n",
    "\"This dataset contains house sale prices for King County, which includes Seattle.\""
   ]
  },
  {
   "cell_type": "markdown",
   "metadata": {},
   "source": [
    "Import libraries"
   ]
  },
  {
   "cell_type": "code",
   "execution_count": 2,
   "metadata": {},
   "outputs": [],
   "source": [
    "import pandas as pd\n",
    "import seaborn as sns\n",
    "import numpy as np\n",
    "import matplotlib.pyplot as plt"
   ]
  },
  {
   "cell_type": "markdown",
   "metadata": {},
   "source": [
    "Let's take a look at the dataset"
   ]
  },
  {
   "cell_type": "code",
   "execution_count": 3,
   "metadata": {
    "scrolled": true
   },
   "outputs": [
    {
     "data": {
      "text/html": [
       "<div>\n",
       "<style scoped>\n",
       "    .dataframe tbody tr th:only-of-type {\n",
       "        vertical-align: middle;\n",
       "    }\n",
       "\n",
       "    .dataframe tbody tr th {\n",
       "        vertical-align: top;\n",
       "    }\n",
       "\n",
       "    .dataframe thead th {\n",
       "        text-align: right;\n",
       "    }\n",
       "</style>\n",
       "<table border=\"1\" class=\"dataframe\">\n",
       "  <thead>\n",
       "    <tr style=\"text-align: right;\">\n",
       "      <th></th>\n",
       "      <th>price</th>\n",
       "      <th>bedrooms</th>\n",
       "      <th>bathrooms</th>\n",
       "      <th>sqft_living</th>\n",
       "      <th>sqft_lot</th>\n",
       "      <th>floors</th>\n",
       "      <th>waterfront</th>\n",
       "      <th>view</th>\n",
       "      <th>condition</th>\n",
       "      <th>grade</th>\n",
       "      <th>sqft_above</th>\n",
       "      <th>sqft_basement</th>\n",
       "      <th>yr_built</th>\n",
       "      <th>yr_renovated</th>\n",
       "      <th>zipcode</th>\n",
       "      <th>lat</th>\n",
       "      <th>long</th>\n",
       "      <th>sqft_living15</th>\n",
       "      <th>sqft_lot15</th>\n",
       "    </tr>\n",
       "  </thead>\n",
       "  <tbody>\n",
       "    <tr>\n",
       "      <th>0</th>\n",
       "      <td>221900.0</td>\n",
       "      <td>3</td>\n",
       "      <td>1.00</td>\n",
       "      <td>1180</td>\n",
       "      <td>5650</td>\n",
       "      <td>1.0</td>\n",
       "      <td>0</td>\n",
       "      <td>0</td>\n",
       "      <td>3</td>\n",
       "      <td>7</td>\n",
       "      <td>1180</td>\n",
       "      <td>0</td>\n",
       "      <td>1955</td>\n",
       "      <td>0</td>\n",
       "      <td>98178</td>\n",
       "      <td>47.5112</td>\n",
       "      <td>-122.257</td>\n",
       "      <td>1340</td>\n",
       "      <td>5650</td>\n",
       "    </tr>\n",
       "    <tr>\n",
       "      <th>1</th>\n",
       "      <td>538000.0</td>\n",
       "      <td>3</td>\n",
       "      <td>2.25</td>\n",
       "      <td>2570</td>\n",
       "      <td>7242</td>\n",
       "      <td>2.0</td>\n",
       "      <td>0</td>\n",
       "      <td>0</td>\n",
       "      <td>3</td>\n",
       "      <td>7</td>\n",
       "      <td>2170</td>\n",
       "      <td>400</td>\n",
       "      <td>1951</td>\n",
       "      <td>1991</td>\n",
       "      <td>98125</td>\n",
       "      <td>47.7210</td>\n",
       "      <td>-122.319</td>\n",
       "      <td>1690</td>\n",
       "      <td>7639</td>\n",
       "    </tr>\n",
       "    <tr>\n",
       "      <th>2</th>\n",
       "      <td>180000.0</td>\n",
       "      <td>2</td>\n",
       "      <td>1.00</td>\n",
       "      <td>770</td>\n",
       "      <td>10000</td>\n",
       "      <td>1.0</td>\n",
       "      <td>0</td>\n",
       "      <td>0</td>\n",
       "      <td>3</td>\n",
       "      <td>6</td>\n",
       "      <td>770</td>\n",
       "      <td>0</td>\n",
       "      <td>1933</td>\n",
       "      <td>0</td>\n",
       "      <td>98028</td>\n",
       "      <td>47.7379</td>\n",
       "      <td>-122.233</td>\n",
       "      <td>2720</td>\n",
       "      <td>8062</td>\n",
       "    </tr>\n",
       "    <tr>\n",
       "      <th>3</th>\n",
       "      <td>604000.0</td>\n",
       "      <td>4</td>\n",
       "      <td>3.00</td>\n",
       "      <td>1960</td>\n",
       "      <td>5000</td>\n",
       "      <td>1.0</td>\n",
       "      <td>0</td>\n",
       "      <td>0</td>\n",
       "      <td>5</td>\n",
       "      <td>7</td>\n",
       "      <td>1050</td>\n",
       "      <td>910</td>\n",
       "      <td>1965</td>\n",
       "      <td>0</td>\n",
       "      <td>98136</td>\n",
       "      <td>47.5208</td>\n",
       "      <td>-122.393</td>\n",
       "      <td>1360</td>\n",
       "      <td>5000</td>\n",
       "    </tr>\n",
       "    <tr>\n",
       "      <th>4</th>\n",
       "      <td>510000.0</td>\n",
       "      <td>3</td>\n",
       "      <td>2.00</td>\n",
       "      <td>1680</td>\n",
       "      <td>8080</td>\n",
       "      <td>1.0</td>\n",
       "      <td>0</td>\n",
       "      <td>0</td>\n",
       "      <td>3</td>\n",
       "      <td>8</td>\n",
       "      <td>1680</td>\n",
       "      <td>0</td>\n",
       "      <td>1987</td>\n",
       "      <td>0</td>\n",
       "      <td>98074</td>\n",
       "      <td>47.6168</td>\n",
       "      <td>-122.045</td>\n",
       "      <td>1800</td>\n",
       "      <td>7503</td>\n",
       "    </tr>\n",
       "    <tr>\n",
       "      <th>...</th>\n",
       "      <td>...</td>\n",
       "      <td>...</td>\n",
       "      <td>...</td>\n",
       "      <td>...</td>\n",
       "      <td>...</td>\n",
       "      <td>...</td>\n",
       "      <td>...</td>\n",
       "      <td>...</td>\n",
       "      <td>...</td>\n",
       "      <td>...</td>\n",
       "      <td>...</td>\n",
       "      <td>...</td>\n",
       "      <td>...</td>\n",
       "      <td>...</td>\n",
       "      <td>...</td>\n",
       "      <td>...</td>\n",
       "      <td>...</td>\n",
       "      <td>...</td>\n",
       "      <td>...</td>\n",
       "    </tr>\n",
       "    <tr>\n",
       "      <th>21608</th>\n",
       "      <td>360000.0</td>\n",
       "      <td>3</td>\n",
       "      <td>2.50</td>\n",
       "      <td>1530</td>\n",
       "      <td>1131</td>\n",
       "      <td>3.0</td>\n",
       "      <td>0</td>\n",
       "      <td>0</td>\n",
       "      <td>3</td>\n",
       "      <td>8</td>\n",
       "      <td>1530</td>\n",
       "      <td>0</td>\n",
       "      <td>2009</td>\n",
       "      <td>0</td>\n",
       "      <td>98103</td>\n",
       "      <td>47.6993</td>\n",
       "      <td>-122.346</td>\n",
       "      <td>1530</td>\n",
       "      <td>1509</td>\n",
       "    </tr>\n",
       "    <tr>\n",
       "      <th>21609</th>\n",
       "      <td>400000.0</td>\n",
       "      <td>4</td>\n",
       "      <td>2.50</td>\n",
       "      <td>2310</td>\n",
       "      <td>5813</td>\n",
       "      <td>2.0</td>\n",
       "      <td>0</td>\n",
       "      <td>0</td>\n",
       "      <td>3</td>\n",
       "      <td>8</td>\n",
       "      <td>2310</td>\n",
       "      <td>0</td>\n",
       "      <td>2014</td>\n",
       "      <td>0</td>\n",
       "      <td>98146</td>\n",
       "      <td>47.5107</td>\n",
       "      <td>-122.362</td>\n",
       "      <td>1830</td>\n",
       "      <td>7200</td>\n",
       "    </tr>\n",
       "    <tr>\n",
       "      <th>21610</th>\n",
       "      <td>402101.0</td>\n",
       "      <td>2</td>\n",
       "      <td>0.75</td>\n",
       "      <td>1020</td>\n",
       "      <td>1350</td>\n",
       "      <td>2.0</td>\n",
       "      <td>0</td>\n",
       "      <td>0</td>\n",
       "      <td>3</td>\n",
       "      <td>7</td>\n",
       "      <td>1020</td>\n",
       "      <td>0</td>\n",
       "      <td>2009</td>\n",
       "      <td>0</td>\n",
       "      <td>98144</td>\n",
       "      <td>47.5944</td>\n",
       "      <td>-122.299</td>\n",
       "      <td>1020</td>\n",
       "      <td>2007</td>\n",
       "    </tr>\n",
       "    <tr>\n",
       "      <th>21611</th>\n",
       "      <td>400000.0</td>\n",
       "      <td>3</td>\n",
       "      <td>2.50</td>\n",
       "      <td>1600</td>\n",
       "      <td>2388</td>\n",
       "      <td>2.0</td>\n",
       "      <td>0</td>\n",
       "      <td>0</td>\n",
       "      <td>3</td>\n",
       "      <td>8</td>\n",
       "      <td>1600</td>\n",
       "      <td>0</td>\n",
       "      <td>2004</td>\n",
       "      <td>0</td>\n",
       "      <td>98027</td>\n",
       "      <td>47.5345</td>\n",
       "      <td>-122.069</td>\n",
       "      <td>1410</td>\n",
       "      <td>1287</td>\n",
       "    </tr>\n",
       "    <tr>\n",
       "      <th>21612</th>\n",
       "      <td>325000.0</td>\n",
       "      <td>2</td>\n",
       "      <td>0.75</td>\n",
       "      <td>1020</td>\n",
       "      <td>1076</td>\n",
       "      <td>2.0</td>\n",
       "      <td>0</td>\n",
       "      <td>0</td>\n",
       "      <td>3</td>\n",
       "      <td>7</td>\n",
       "      <td>1020</td>\n",
       "      <td>0</td>\n",
       "      <td>2008</td>\n",
       "      <td>0</td>\n",
       "      <td>98144</td>\n",
       "      <td>47.5941</td>\n",
       "      <td>-122.299</td>\n",
       "      <td>1020</td>\n",
       "      <td>1357</td>\n",
       "    </tr>\n",
       "  </tbody>\n",
       "</table>\n",
       "<p>21613 rows × 19 columns</p>\n",
       "</div>"
      ],
      "text/plain": [
       "          price  bedrooms  bathrooms  sqft_living  sqft_lot  floors  \\\n",
       "0      221900.0         3       1.00         1180      5650     1.0   \n",
       "1      538000.0         3       2.25         2570      7242     2.0   \n",
       "2      180000.0         2       1.00          770     10000     1.0   \n",
       "3      604000.0         4       3.00         1960      5000     1.0   \n",
       "4      510000.0         3       2.00         1680      8080     1.0   \n",
       "...         ...       ...        ...          ...       ...     ...   \n",
       "21608  360000.0         3       2.50         1530      1131     3.0   \n",
       "21609  400000.0         4       2.50         2310      5813     2.0   \n",
       "21610  402101.0         2       0.75         1020      1350     2.0   \n",
       "21611  400000.0         3       2.50         1600      2388     2.0   \n",
       "21612  325000.0         2       0.75         1020      1076     2.0   \n",
       "\n",
       "       waterfront  view  condition  grade  sqft_above  sqft_basement  \\\n",
       "0               0     0          3      7        1180              0   \n",
       "1               0     0          3      7        2170            400   \n",
       "2               0     0          3      6         770              0   \n",
       "3               0     0          5      7        1050            910   \n",
       "4               0     0          3      8        1680              0   \n",
       "...           ...   ...        ...    ...         ...            ...   \n",
       "21608           0     0          3      8        1530              0   \n",
       "21609           0     0          3      8        2310              0   \n",
       "21610           0     0          3      7        1020              0   \n",
       "21611           0     0          3      8        1600              0   \n",
       "21612           0     0          3      7        1020              0   \n",
       "\n",
       "       yr_built  yr_renovated  zipcode      lat     long  sqft_living15  \\\n",
       "0          1955             0    98178  47.5112 -122.257           1340   \n",
       "1          1951          1991    98125  47.7210 -122.319           1690   \n",
       "2          1933             0    98028  47.7379 -122.233           2720   \n",
       "3          1965             0    98136  47.5208 -122.393           1360   \n",
       "4          1987             0    98074  47.6168 -122.045           1800   \n",
       "...         ...           ...      ...      ...      ...            ...   \n",
       "21608      2009             0    98103  47.6993 -122.346           1530   \n",
       "21609      2014             0    98146  47.5107 -122.362           1830   \n",
       "21610      2009             0    98144  47.5944 -122.299           1020   \n",
       "21611      2004             0    98027  47.5345 -122.069           1410   \n",
       "21612      2008             0    98144  47.5941 -122.299           1020   \n",
       "\n",
       "       sqft_lot15  \n",
       "0            5650  \n",
       "1            7639  \n",
       "2            8062  \n",
       "3            5000  \n",
       "4            7503  \n",
       "...           ...  \n",
       "21608        1509  \n",
       "21609        7200  \n",
       "21610        2007  \n",
       "21611        1287  \n",
       "21612        1357  \n",
       "\n",
       "[21613 rows x 19 columns]"
      ]
     },
     "execution_count": 3,
     "metadata": {},
     "output_type": "execute_result"
    }
   ],
   "source": [
    "df = pd.read_csv('kc_house_data.csv')\n",
    "df = df.drop([\"id\", \"date\"], axis=1)\n",
    "df"
   ]
  },
  {
   "cell_type": "markdown",
   "metadata": {},
   "source": [
    "## Correlation matrix\n",
    "\n",
    "Each cell on the table show the correlation between two variables.\n",
    "\n",
    "https://towardsdatascience.com/let-us-understand-the-correlation-matrix-and-covariance-matrix-d42e6b643c22\n",
    "\n",
    "### Correlation x Covariance\n",
    "Both terms measure the relationship and dependency between two variables.\n",
    "\n",
    "#### Covariance\n",
    "Indicates the **direction** of the relationship. Covariance values aren't standardized.\n",
    "\n",
    "$cov(x,y) = E[(x-\\mu_x)(y-\\mu_y)]=E[xy]-E[x]E[y]=E[xy]-\\mu_x\\mu_y$\n",
    "\n",
    "- Covariance values can range from negative infinity to positive infinity.\n",
    "\n",
    "- A covariance equal to 1 means that there is a perfect linear relationship between the two variables.\n",
    "\n",
    "- Zero covariance **does not** imply independence.\n",
    "\n",
    "- The magnitude of the covariance is not easy to interpret because it is not normalized and hence depends on the magnitudes of the variables.\n",
    "\n",
    "*OBS:* $cov(y,y)=E[y^2]-E[y]^2=var(y)=s^2=\\frac{\\sum_{i=1}^n(x_i-\\overline{x})^2}{n-1}$, *where s is the sampled variance*\n",
    "\n",
    "#### Correlation\n",
    "Measures the **strenght and direction** of the relationship. Correlation values are standardized. \n",
    "\n",
    "$corr(x,y) = \\frac{cov(x,y)}{s_xs_y} = \\frac{cov(x,y)}{\\sigma_x\\sigma_y}$\n",
    "\n",
    "- Correlation value can vary from -1 to +1.\n",
    "\n",
    "- The sign indicates whether the correlation is positive (both variables increase in the same direction) or not.\n",
    "\n",
    "- $corr(x,x) = 1$\n",
    "\n",
    "#### When to use?\n",
    "In Principal Component Analysis, we should use the **covariance matrix** when the variables are on **similar scale** and the **correlation matrix** when the **scales are different**.\n"
   ]
  },
  {
   "cell_type": "code",
   "execution_count": 79,
   "metadata": {},
   "outputs": [
    {
     "data": {
      "text/plain": [
       "<matplotlib.axes._subplots.AxesSubplot at 0x19ef96bc908>"
      ]
     },
     "execution_count": 79,
     "metadata": {},
     "output_type": "execute_result"
    },
    {
     "data": {
      "image/png": "[encoded data removed]",
      "text/plain": [
       "<Figure size 864x648 with 2 Axes>"
      ]
     },
     "metadata": {
      "needs_background": "light"
     },
     "output_type": "display_data"
    }
   ],
   "source": [
    "plt.figure(figsize=(12, 9))\n",
    "matrix = np.triu(df.corr())\n",
    "sns.heatmap(df.corr(), annot = True,fmt='.1g', cmap= 'coolwarm', mask=matrix)"
   ]
  },
  {
   "cell_type": "markdown",
   "metadata": {},
   "source": [
    "## Simple Linear Regression\n",
    "\n",
    "We'll first do a simple linear regression, using **sqft_living** as the feature."
   ]
  },
  {
   "cell_type": "code",
   "execution_count": 80,
   "metadata": {},
   "outputs": [],
   "source": [
    "dataset = df[[\"sqft_living\", \"price\"]]\n",
    "X = dataset.iloc[:, :-1].values\n",
    "y = dataset.iloc[:, 1].values"
   ]
  },
  {
   "cell_type": "markdown",
   "metadata": {},
   "source": [
    "Splitting the dataset into the Training set and Test set"
   ]
  },
  {
   "cell_type": "code",
   "execution_count": 81,
   "metadata": {},
   "outputs": [],
   "source": [
    "from sklearn.model_selection import train_test_split\n",
    "X_train, X_test, y_train, y_test = train_test_split(X, y, test_size = 1/3, random_state = 0)"
   ]
  },
  {
   "cell_type": "markdown",
   "metadata": {},
   "source": [
    "Fitting Simple Linear Regression to the Training set"
   ]
  },
  {
   "cell_type": "code",
   "execution_count": 82,
   "metadata": {},
   "outputs": [
    {
     "data": {
      "text/plain": [
       "LinearRegression(copy_X=True, fit_intercept=True, n_jobs=None, normalize=False)"
      ]
     },
     "execution_count": 82,
     "metadata": {},
     "output_type": "execute_result"
    }
   ],
   "source": [
    "from sklearn.linear_model import LinearRegression\n",
    "regressor = LinearRegression()\n",
    "regressor.fit(X_train, y_train)"
   ]
  },
  {
   "cell_type": "markdown",
   "metadata": {},
   "source": [
    "Predicting the Test set results"
   ]
  },
  {
   "cell_type": "code",
   "execution_count": 83,
   "metadata": {},
   "outputs": [],
   "source": [
    "y_pred = regressor.predict(X_test)"
   ]
  },
  {
   "cell_type": "markdown",
   "metadata": {},
   "source": [
    "Visualising the Training set results"
   ]
  },
  {
   "cell_type": "code",
   "execution_count": 84,
   "metadata": {},
   "outputs": [
    {
     "data": {
      "image/png": "[encoded data removed]",
      "text/plain": [
       "<Figure size 432x288 with 1 Axes>"
      ]
     },
     "metadata": {
      "needs_background": "light"
     },
     "output_type": "display_data"
    }
   ],
   "source": [
    "plt.scatter(X_train, y_train, color = 'red')\n",
    "plt.plot(X_train, regressor.predict(X_train), color = 'blue')\n",
    "plt.title('Price vs Living Area (Training set)')\n",
    "plt.xlabel('Living Area')\n",
    "plt.ylabel('Price')\n",
    "plt.show()"
   ]
  },
  {
   "cell_type": "markdown",
   "metadata": {},
   "source": [
    "Visualising the Test set results"
   ]
  },
  {
   "cell_type": "code",
   "execution_count": 85,
   "metadata": {},
   "outputs": [
    {
     "data": {
      "image/png": "[encoded data removed]",
      "text/plain": [
       "<Figure size 432x288 with 1 Axes>"
      ]
     },
     "metadata": {
      "needs_background": "light"
     },
     "output_type": "display_data"
    }
   ],
   "source": [
    "plt.scatter(X_test, y_test, color = 'red')\n",
    "plt.plot(X_train, regressor.predict(X_train), color = 'blue')\n",
    "plt.title('Price vs Living Area (Training set)')\n",
    "plt.xlabel('Living Area')\n",
    "plt.ylabel('Price')\n",
    "plt.show()"
   ]
  },
  {
   "cell_type": "code",
   "execution_count": 86,
   "metadata": {
    "scrolled": true
   },
   "outputs": [
    {
     "name": "stdout",
     "output_type": "stream",
     "text": [
      "Root Mean Squared Error: 268643.1133198214\n",
      "Score: 0.5000063123558641\n"
     ]
    }
   ],
   "source": [
    "print(\"Root Mean Squared Error: \" + str(np.sqrt(metrics.mean_squared_error(y_test,y_pred))))\n",
    "print(\"Score: \"+ str(regressor.score(X_test,y_test))) #R^2"
   ]
  },
  {
   "cell_type": "markdown",
   "metadata": {},
   "source": [
    "## Multiple Linear Regression"
   ]
  },
  {
   "cell_type": "markdown",
   "metadata": {},
   "source": [
    "### Removing correlated features"
   ]
  },
  {
   "cell_type": "code",
   "execution_count": 106,
   "metadata": {},
   "outputs": [],
   "source": [
    "correlated_features = set()\n",
    "correlation_matrix = df.corr()\n",
    "\n",
    "for i in range(len(correlation_matrix.columns)):\n",
    "    for j in range(i):\n",
    "        if abs(correlation_matrix.iloc[i, j]) > 0.8:\n",
    "            colname = correlation_matrix.columns[i]\n",
    "            correlated_features.add(colname)\n",
    "df = df.drop(correlated_features,axis=1)"
   ]
  },
  {
   "cell_type": "markdown",
   "metadata": {},
   "source": [
    "### Recursive Feature Elimination with Cross-Validation\n",
    "https://towardsdatascience.com/feature-selection-in-python-recursive-feature-elimination-19f1c39b8d15\n",
    "\n",
    "It is a backward selection of preditors. We begin with the whole set of features, we define their importance and the least important feature is removed. The process is repeated until a certain stop condition."
   ]
  },
  {
   "cell_type": "code",
   "execution_count": 53,
   "metadata": {},
   "outputs": [
    {
     "name": "stderr",
     "output_type": "stream",
     "text": [
      "C:\\Users\\pypas\\anaconda3\\envs\\ML\\lib\\site-packages\\sklearn\\model_selection\\_split.py:667: UserWarning: The least populated class in y has only 1 members, which is less than n_splits=10.\n",
      "  % (min_groups, self.n_splits)), UserWarning)\n"
     ]
    },
    {
     "data": {
      "text/plain": [
       "RFECV(cv=StratifiedKFold(n_splits=10, random_state=None, shuffle=False),\n",
       "      estimator=LinearRegression(copy_X=True, fit_intercept=True, n_jobs=None,\n",
       "                                 normalize=False),\n",
       "      min_features_to_select=1, n_jobs=None, scoring=None, step=1, verbose=0)"
      ]
     },
     "execution_count": 53,
     "metadata": {},
     "output_type": "execute_result"
    }
   ],
   "source": [
    "from sklearn.model_selection import StratifiedKFold\n",
    "from sklearn.feature_selection import RFECV\n",
    "X = df.drop('price', axis=1)\n",
    "y = df['price']\n",
    "rfc = LinearRegression()\n",
    "rfecv = RFECV(estimator=rfc, step=1, cv=StratifiedKFold(10))\n",
    "rfecv.fit(X, y)"
   ]
  },
  {
   "cell_type": "code",
   "execution_count": 54,
   "metadata": {},
   "outputs": [
    {
     "name": "stdout",
     "output_type": "stream",
     "text": [
      "Optimal number of features: 17\n"
     ]
    }
   ],
   "source": [
    "print('Optimal number of features: {}'.format(rfecv.n_features_))"
   ]
  },
  {
   "cell_type": "code",
   "execution_count": 55,
   "metadata": {},
   "outputs": [
    {
     "data": {
      "image/png": "[encoded data removed]",
      "text/plain": [
       "<Figure size 1152x648 with 1 Axes>"
      ]
     },
     "metadata": {
      "needs_background": "light"
     },
     "output_type": "display_data"
    }
   ],
   "source": [
    "plt.figure(figsize=(16, 9))\n",
    "plt.title('Recursive Feature Elimination with Cross-Validation', fontsize=18, fontweight='bold', pad=20)\n",
    "plt.xlabel('Number of features selected', fontsize=14, labelpad=20)\n",
    "plt.ylabel('% Correct Classification', fontsize=14, labelpad=20)\n",
    "plt.plot(range(1, len(rfecv.grid_scores_) + 1), rfecv.grid_scores_, color='#303F9F', linewidth=3)\n",
    "\n",
    "plt.show()"
   ]
  },
  {
   "cell_type": "markdown",
   "metadata": {},
   "source": [
    "### Evaluating the model"
   ]
  },
  {
   "cell_type": "code",
   "execution_count": 5,
   "metadata": {},
   "outputs": [],
   "source": [
    "dataset = df[['sqft_living','grade', 'sqft_above', 'sqft_living15','bathrooms','view', 'sqft_basement','lat','waterfront','yr_built','bedrooms']]\n",
    "\n",
    "X = dataset.iloc[:, :-1].values\n",
    "y = df.price.values"
   ]
  },
  {
   "cell_type": "markdown",
   "metadata": {},
   "source": [
    "Splitting the dataset into the Training set and Test set"
   ]
  },
  {
   "cell_type": "code",
   "execution_count": 6,
   "metadata": {},
   "outputs": [],
   "source": [
    "from sklearn.model_selection import train_test_split\n",
    "X_train, X_test, y_train, y_test = train_test_split(X, y, test_size=0.2, random_state=4)"
   ]
  },
  {
   "cell_type": "markdown",
   "metadata": {},
   "source": [
    "Fitting Simple Linear Regression to the Training set"
   ]
  },
  {
   "cell_type": "code",
   "execution_count": 206,
   "metadata": {},
   "outputs": [
    {
     "data": {
      "text/plain": [
       "LinearRegression(copy_X=True, fit_intercept=True, n_jobs=None, normalize=False)"
      ]
     },
     "execution_count": 206,
     "metadata": {},
     "output_type": "execute_result"
    }
   ],
   "source": [
    "from sklearn.linear_model import LinearRegression\n",
    "regressor = LinearRegression()\n",
    "regressor.fit(X_train, y_train)"
   ]
  },
  {
   "cell_type": "markdown",
   "metadata": {},
   "source": [
    "Predicting the Test set results"
   ]
  },
  {
   "cell_type": "code",
   "execution_count": 207,
   "metadata": {},
   "outputs": [],
   "source": [
    "y_pred = regressor.predict(X_test)"
   ]
  },
  {
   "cell_type": "markdown",
   "metadata": {},
   "source": [
    "RMSE and Score\n",
    "\n",
    "Score(R^2): A measure of how well observed outcomes are replicated by the model, as the proportion of total variation of outcomes explained by the model."
   ]
  },
  {
   "cell_type": "code",
   "execution_count": 208,
   "metadata": {
    "scrolled": true
   },
   "outputs": [
    {
     "name": "stdout",
     "output_type": "stream",
     "text": [
      "Root Mean Squared Error: 202228.2472065237\n",
      "Score: 0.6838061780203321\n"
     ]
    }
   ],
   "source": [
    "from sklearn import metrics\n",
    "print(\"Root Mean Squared Error: \" + str(np.sqrt(metrics.mean_squared_error(y_test,y_pred))))\n",
    "print(\"Score: \"+ str(regressor.score(X_test,y_test))) #R^2"
   ]
  },
  {
   "cell_type": "markdown",
   "metadata": {},
   "source": [
    "### XGBoost\n",
    "XGBoost is a decision-tree-based ensemble Machine Learning algorithm that uses a gradient boosting framework.\n",
    "https://towardsdatascience.com/https-medium-com-vishalmorde-xgboost-algorithm-long-she-may-rein-edd9f99be63d\n",
    "\n",
    "#### Boosting\n",
    "Src: https://www.youtube.com/watch?v=kho6oANGu_A\n",
    "\n",
    "Let's say we want to create an algorithm to classify an image as a cat or as a dog. We discover the following rules:\n",
    "\n",
    "1. The image has pointy ears: it's a cat!\n",
    "\n",
    "2. The image has cat shaped eyes: it's a cat!\n",
    "\n",
    "3. The image has bigger limbs: it's a dog!\n",
    "\n",
    "4. The image has sharpened claws: it's a cat!\n",
    "\n",
    "5. The image has a wider mouth structure: it's a dog!\n",
    "\n",
    "If we apply these rules separatedly, the prediction won't give good results. Each rule is called a **weak learner** because they're not strong enough to classify the image. \n",
    "\n",
    "One idea: get the predictions by each of the rules, and use the majority vote to determine if it is a dog or a cat.\n",
    "\n",
    "**Boosting** is an ensemble learning technique that uses ML algorithms to combine weak learners to form strong learners, in order to increase the accuracy of the model. "
   ]
  },
  {
   "cell_type": "code",
   "execution_count": 7,
   "metadata": {},
   "outputs": [],
   "source": [
    "import xgboost\n",
    "xgb = xgboost.XGBRegressor(n_estimators=100, learning_rate=0.08, gamma=0, subsample=0.75, colsample_bytree=1, max_depth=7)\n",
    "xgb.fit(X_train,y_train)"
   ]
  },
  {
   "cell_type": "code",
   "execution_count": 9,
   "metadata": {},
   "outputs": [],
   "source": [
    "y_pred = xgb.predict(X_test)"
   ]
  },
  {
   "cell_type": "code",
   "execution_count": 11,
   "metadata": {},
   "outputs": [
    {
     "name": "stdout",
     "output_type": "stream",
     "text": [
      "Mean Squared Error: 20702336753.243935\n",
      "Mean Absolute Error: 83023.30575916609\n",
      "Root Mean Squared Error: 143883.0662491036\n"
     ]
    }
   ],
   "source": [
    "from sklearn import metrics\n",
    "print(f'Mean Squared Error: {metrics.mean_squared_error(y_pred,y_test)}')\n",
    "print(f'Mean Absolute Error: {metrics.mean_absolute_error(y_pred,y_test)}')\n",
    "print(f'Root Mean Squared Error: {np.sqrt(metrics.mean_squared_error(y_pred,y_test))}')"
   ]
  }
 ],
 "metadata": {
  "kernelspec": {
   "display_name": "Python 3",
   "language": "python",
   "name": "python3"
  },
  "language_info": {
   "codemirror_mode": {
    "name": "ipython",
    "version": 3
   },
   "file_extension": ".py",
   "mimetype": "text/x-python",
   "name": "python",
   "nbconvert_exporter": "python",
   "pygments_lexer": "ipython3",
   "version": "3.7.6"
  }
 },
 "nbformat": 4,
 "nbformat_minor": 4
}
