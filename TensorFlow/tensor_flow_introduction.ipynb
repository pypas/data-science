{
 "cells": [
  {
   "cell_type": "markdown",
   "metadata": {},
   "source": [
    "# Tensor Flow\n",
    "A tensor is a vector generalized to higher dimensions. Each tensor represents a partialy defined computation that will eventually produce a value. Each tensor has a **data type** (ex: float32, int32, string etc) and a **shape** (that represents the dimension of data)."
   ]
  },
  {
   "cell_type": "markdown",
   "metadata": {},
   "source": [
    "## Importing TF"
   ]
  },
  {
   "cell_type": "code",
   "execution_count": 26,
   "metadata": {},
   "outputs": [
    {
     "name": "stderr",
     "output_type": "stream",
     "text": [
      "C:\\Users\\pypas\\anaconda3\\envs\\ML\\lib\\site-packages\\tensorflow\\python\\client\\session.py:1702: UserWarning: An interactive session is already active. This can cause out-of-memory errors in some cases. You must explicitly call `InteractiveSession.close()` to release resources held by the other session(s).\n",
      "  warnings.warn('An interactive session is already active. This can '\n"
     ]
    }
   ],
   "source": [
    "import tensorflow as tf\n",
    "session = tf.compat.v1.InteractiveSession()"
   ]
  },
  {
   "cell_type": "markdown",
   "metadata": {},
   "source": [
    "## Creating tensors"
   ]
  },
  {
   "cell_type": "code",
   "execution_count": 27,
   "metadata": {},
   "outputs": [],
   "source": [
    "string = tf.Variable(\"this is a string\", tf.string)\n",
    "number = tf.Variable(32, tf.int16)\n",
    "floating = tf.Variable(3.4, tf.float64)"
   ]
  },
  {
   "cell_type": "markdown",
   "metadata": {},
   "source": [
    "## Rank/Degree of Tensors\n",
    "This means the number of dimensions involved in the tensor.\n",
    "What we created above is a tensor of rank 0 (a **scalar**)"
   ]
  },
  {
   "cell_type": "code",
   "execution_count": 31,
   "metadata": {},
   "outputs": [
    {
     "data": {
      "text/plain": [
       "2"
      ]
     },
     "execution_count": 31,
     "metadata": {},
     "output_type": "execute_result"
    }
   ],
   "source": [
    "rank1_tensor = tf.Variable([\"test\", \"test2\", \"test3\"], tf.string)\n",
    "rank2_tensor = tf.Variable([[\"test\", \"test2\"], [\"test3\", \"test4\"]], tf.string)\n",
    "tf.rank(rank2_tensor).eval()"
   ]
  },
  {
   "cell_type": "markdown",
   "metadata": {},
   "source": [
    "## Shape of Tensors\n",
    "How many items in each dimension"
   ]
  },
  {
   "cell_type": "code",
   "execution_count": 32,
   "metadata": {},
   "outputs": [
    {
     "data": {
      "text/plain": [
       "TensorShape([Dimension(2), Dimension(2)])"
      ]
     },
     "execution_count": 32,
     "metadata": {},
     "output_type": "execute_result"
    }
   ],
   "source": [
    "rank2_tensor.shape"
   ]
  },
  {
   "cell_type": "markdown",
   "metadata": {},
   "source": [
    "## Changing shape"
   ]
  },
  {
   "cell_type": "code",
   "execution_count": 42,
   "metadata": {},
   "outputs": [
    {
     "name": "stdout",
     "output_type": "stream",
     "text": [
      "Tensor 1 [1,2,3]\n",
      "[[[1. 1. 1.]\n",
      "  [1. 1. 1.]]]\n",
      "Tensor 2 [2,3,1]\n",
      "[[[1.]\n",
      "  [1.]\n",
      "  [1.]]\n",
      "\n",
      " [[1.]\n",
      "  [1.]\n",
      "  [1.]]]\n",
      "Tensor 3 [3, -1]\n",
      "[[1. 1.]\n",
      " [1. 1.]\n",
      " [1. 1.]]\n"
     ]
    }
   ],
   "source": [
    "tensor1 = tf.ones([1,2,3])\n",
    "tensor2 = tf.reshape(tensor1,[2,3,1])\n",
    "tensor3 = tf.reshape(tensor2, [3,-1]) # -1 tells the tensor to calculte the size of the dimension in that place\n",
    "\n",
    "print(\"Tensor 1 [1,2,3]\")\n",
    "print(tensor1.eval()) # [[[1,1,1], [1,1,1]]]\n",
    "print(\"Tensor 2 [2,3,1]\")\n",
    "print(tensor2.eval()) # [[[1],[1],[1]], [[1],[1],[1]]]\n",
    "print(\"Tensor 3 [3, -1]\")\n",
    "print(tensor3.eval()) # [[1,1], [1,1], [1,1]]"
   ]
  },
  {
   "cell_type": "markdown",
   "metadata": {},
   "source": [
    "## Types of Tensor\n",
    "- Variable\n",
    "- Constant\n",
    "- Placeholder\n",
    "- SparseTensor\n",
    "\n",
    "With the exception of **Variable**, all of these tensors are immutable (their value may not change during execution)"
   ]
  },
  {
   "cell_type": "code",
   "execution_count": 43,
   "metadata": {},
   "outputs": [],
   "source": [
    "session.close()"
   ]
  }
 ],
 "metadata": {
  "kernelspec": {
   "display_name": "Python 3",
   "language": "python",
   "name": "python3"
  },
  "language_info": {
   "codemirror_mode": {
    "name": "ipython",
    "version": 3
   },
   "file_extension": ".py",
   "mimetype": "text/x-python",
   "name": "python",
   "nbconvert_exporter": "python",
   "pygments_lexer": "ipython3",
   "version": "3.7.6"
  }
 },
 "nbformat": 4,
 "nbformat_minor": 4
}
