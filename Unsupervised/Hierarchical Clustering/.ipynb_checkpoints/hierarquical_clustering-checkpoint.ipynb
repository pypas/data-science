{
 "cells": [
  {
   "cell_type": "markdown",
   "metadata": {},
   "source": [
    "# Hierarchical clustering\n",
    "\n",
    "## Hierarquical versus Partitional"
   ]
  },
  {
   "cell_type": "code",
   "execution_count": 17,
   "metadata": {},
   "outputs": [
    {
     "data": {
      "text/html": [
       "<table><tr><td><img src='img/partitional_clustering.png'></td><td><img src='img/hierarquical_clustering.png'></td></tr></table>"
      ],
      "text/plain": [
       "<IPython.core.display.HTML object>"
      ]
     },
     "metadata": {},
     "output_type": "display_data"
    }
   ],
   "source": [
    "from IPython.display import HTML, display\n",
    "display(HTML(\"<table><tr><td><img src='img/partitional_clustering.png'></td><td><img src='img/hierarquical_clustering.png'></td></tr></table>\"))"
   ]
  },
  {
   "cell_type": "markdown",
   "metadata": {},
   "source": [
    "## Agglomerative x Divisive\n",
    "\n",
    "### Agglomerative\n",
    "Agglomerative (“bottom up”): each observation starts in its own cluster, and **pairs of clusters are merged** as one\n",
    "moves up the hierarchy. \n",
    "\n",
    "`compute the proximity matrix, if necessary.\n",
    "repeat:\n",
    "    merge the closest two clusters.\n",
    "    update the proximity matrix to reflect the proximity between the new cluster and the original clusters.\n",
    "until only one cluster remains.`"
   ]
  },
  {
   "cell_type": "code",
   "execution_count": 18,
   "metadata": {
    "scrolled": true
   },
   "outputs": [
    {
     "data": {
      "text/html": [
       "<table><tr><td><img src='img/agglomerative_1.png'></td><td><img src='img/agglomerative_2.png'></td></tr><tr><td><img src='img/agglomerative_3.png'></td><td><img src='img/agglomerative_4.png'></td></tr><tr></td><td><img src='img/agglomerative_5.png'></td></tr></table>"
      ],
      "text/plain": [
       "<IPython.core.display.HTML object>"
      ]
     },
     "metadata": {},
     "output_type": "display_data"
    }
   ],
   "source": [
    "display(HTML(\"<table><tr><td><img src='img/agglomerative_1.png'></td><td><img src='img/agglomerative_2.png'></td></tr><tr><td><img src='img/agglomerative_3.png'></td><td><img src='img/agglomerative_4.png'></td></tr><tr></td><td><img src='img/agglomerative_5.png'></td></tr></table>\"))"
   ]
  },
  {
   "cell_type": "markdown",
   "metadata": {},
   "source": [
    "### Divisive\n",
    "Divisive (“top down”): all observations start in one cluster, and **splits are performed** recursively as one moves down\n",
    "the hierarchy"
   ]
  },
  {
   "cell_type": "markdown",
   "metadata": {},
   "source": [
    "## Defining Proximity between Clusters\n",
    "\n",
    "1. **Single link or MIN**: defines cluster proximity as the **proximity** between the closest two points that are in different clusters.\n",
    "\n",
    "2. **Complete link or MAX**: takes the proximity between the **farthest** two points in different clusters to be the cluster proximity.\n",
    "\n",
    "3. **Average**: defines cluster proximity to be the **average pairwise** proximities of all pairs of points from different clusters\n",
    "\n",
    "4. **Centroids**: the cluster proximity is commonly defined as the proximity between cluster centroids\n",
    "\n",
    "[Extra] **Ward’s**: measures the proximity between two clusters in terms of the increase in the SSE that results from merging the two cluster."
   ]
  },
  {
   "cell_type": "code",
   "execution_count": 19,
   "metadata": {},
   "outputs": [
    {
     "data": {
      "text/html": [
       "<table><tr><td> 1 <img src='img/distance_min.png'></td><td> 2 <img src='img/distance_max.png'></td></tr><tr><td> 3 <img src='img/distance_avg.png'></td><td> 4 <img src='img/distance_centroids.png'></td></tr></table>"
      ],
      "text/plain": [
       "<IPython.core.display.HTML object>"
      ]
     },
     "metadata": {},
     "output_type": "display_data"
    }
   ],
   "source": [
    "display(HTML(\"<table><tr><td> 1 <img src='img/distance_min.png'></td><td> 2 <img src='img/distance_max.png'></td></tr><tr><td> 3 <img src='img/distance_avg.png'></td><td> 4 <img src='img/distance_centroids.png'></td></tr></table>\"))"
   ]
  },
  {
   "cell_type": "markdown",
   "metadata": {},
   "source": [
    "# DBScan\n",
    "Density-Based Spatial Clustering of Applications with Noise\n",
    "\n",
    "Given a set of points in some space, it **groups together points that are closely packed together** (points with many\n",
    "nearby neighbors), marking as *outliers points that lie alone in low-density regions*.\n",
    "\n",
    "- Core points: A point is a core point if there are **at least MinPts within a distance of Eps**, where MinPts and Eps are user-specified parameters. \n",
    "\n",
    "- Border points: A border point is not a core point, but **falls within the neighborhood of a core point.**\n",
    "\n",
    "- Noise points: A noise point is any point that is neither a core point nor a border point. \n",
    "\n",
    "![dbscan](img/dbscan.png)\n",
    "\n",
    "## DBScan Algorithm\n",
    "1.  Start with an **arbitrary** point which has not been visited and its neighborhood information is retrieved from the Eps parameter.\n",
    "\n",
    "2. If this point contains MinPts within Eps neighborhood, cluster formation starts. Otherwise the point* is labeled as noise.\n",
    "\n",
    "*This point can be later found within the Eps neighborhood of a different point and, thus can be made a part of the cluster.\n",
    "\n",
    "3. If a point is found to be a core point then the points within the Eps neighborhood is also part of the cluster. So all the points found within Eps neighborhood are added, along with their own Eps neighborhood, if they are also core points.\n",
    "\n",
    "4. The process restarts with a new point which can be a part of a new cluster or labeled as noise.\n",
    "\n",
    "Visualizing DBScan: https://www.naftaliharris.com/blog/visualizing-dbscan-clustering/"
   ]
  },
  {
   "cell_type": "markdown",
   "metadata": {},
   "source": [
    "# Clustering Evaluation\n",
    "Evaluating the performance of a clustering algorithm is **not as trivial** as counting the number of errors or the precision\n",
    "and recall of a supervised classification algorithm.\n",
    "\n",
    "- Adjusted Rand index\n",
    "- Mutual Information based scores\n",
    "- Homogeneity, completeness and V-measure\n",
    "- Silhouette Coefficient\n",
    "\n",
    "## Silhouette Coefficient\n",
    " The silhouette value is a measure of how similar a sample is to its own cluster (**cohesion**) compared to other clusters\n",
    "(**separation**).\n",
    "\n",
    "The silhouette ranges from −1 to +1.\n",
    "-  **High value** = the clustering configuration is **appropriate**.\n",
    "-  **Low value** = the clustering configuration may have **too many or too** few clusters.\n",
    "\n",
    "The Silhouette Coefficient is defined **for each sample** and is composed of two scores:\n",
    "- **a**: The mean distance between a sample and all other points **in the same cluster**.\n",
    "- **b**: The mean distance between a sample and all other points in the **next nearest cluster**\n",
    "\n",
    "The Silhouette Coefficient s for a single sample is given as: $s = \\frac{b - a}{max(a,b)}$\n",
    "\n",
    "The score is bounded between -1 for incorrect clustering and +1 for highly dense clustering (a ≪ b). Scores around\n",
    "zero indicate overlapping clusters."
   ]
  }
 ],
 "metadata": {
  "kernelspec": {
   "display_name": "Python 3",
   "language": "python",
   "name": "python3"
  },
  "language_info": {
   "codemirror_mode": {
    "name": "ipython",
    "version": 3
   },
   "file_extension": ".py",
   "mimetype": "text/x-python",
   "name": "python",
   "nbconvert_exporter": "python",
   "pygments_lexer": "ipython3",
   "version": "3.7.6"
  }
 },
 "nbformat": 4,
 "nbformat_minor": 4
}
